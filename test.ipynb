{
 "cells": [
  {
   "cell_type": "code",
   "execution_count": 37,
   "metadata": {},
   "outputs": [],
   "source": [
    "import openai\n",
    "import os\n",
    "import json\n",
    "with open(\"openai-api-.txt\", \"r\") as f: # put your own api\n",
    "    line = f.readline()    \n",
    "\n",
    "os.environ[\"OPENAI_API_KEY\"] = line\n",
    "openai.api_key = os.getenv(\"OPENAI_API_KEY\")\n",
    "from library import *"
   ]
  },
  {
   "cell_type": "code",
   "execution_count": 1,
   "metadata": {},
   "outputs": [
    {
     "name": "stderr",
     "output_type": "stream",
     "text": [
      "/Users/sheikh/miniconda3/envs/openai/lib/python3.9/site-packages/tqdm/auto.py:22: TqdmWarning: IProgress not found. Please update jupyter and ipywidgets. See https://ipywidgets.readthedocs.io/en/stable/user_install.html\n",
      "  from .autonotebook import tqdm as notebook_tqdm\n",
      "Downloading builder script: 100%|██████████| 4.95k/4.95k [00:00<00:00, 2.07MB/s]\n",
      "Downloading readme: 100%|██████████| 5.63k/5.63k [00:00<00:00, 2.16MB/s]\n",
      "Downloading data: 100%|██████████| 107M/107M [00:09<00:00, 11.6MB/s]\n",
      "Downloading data: 100%|██████████| 1.29G/1.29G [01:40<00:00, 12.9MB/s]\n",
      "Downloading data files: 100%|██████████| 2/2 [01:53<00:00, 56.97s/it]\n",
      "Extracting data files: 100%|██████████| 2/2 [00:00<00:00, 298.37it/s]\n",
      "Generating train split: 5000 examples [00:01, 3682.64 examples/s]\n",
      "Generating test split: 5000 examples [00:09, 535.31 examples/s] \n"
     ]
    }
   ],
   "source": [
    "from datasets import load_dataset\n",
    "\n",
    "dataset = load_dataset(\"codeparrot/apps\")"
   ]
  },
  {
   "cell_type": "code",
   "execution_count": 101,
   "metadata": {},
   "outputs": [
    {
     "data": {
      "text/plain": [
       "{'problem_id': 8,\n",
       " 'question': 'You like playing chess tournaments online.\\n\\nIn your last tournament you played $n$ games. For the sake of this problem, each chess game is either won or lost (no draws). When you lose a game you get $0$ points. When you win you get $1$ or $2$ points: if you have won also the previous game you get $2$ points, otherwise you get $1$ point. If you win the very first game of the tournament you get $1$ point (since there is not a \"previous game\").\\n\\nThe outcomes of the $n$ games are represented by a string $s$ of length $n$: the $i$-th character of $s$ is W if you have won the $i$-th game, while it is L if you have lost the $i$-th game.\\n\\nAfter the tournament, you notice a bug on the website that allows you to change the outcome of at most $k$ of your games (meaning that at most $k$ times you can change some symbol L to W, or W to L). Since your only goal is to improve your chess rating, you decide to cheat and use the bug.\\n\\nCompute the maximum score you can get by cheating in the optimal way.\\n\\n\\n-----Input-----\\n\\nEach test contains multiple test cases. The first line contains an integer $t$ ($1\\\\le t \\\\le 20,000$) — the number of test cases. The description of the test cases follows.\\n\\nThe first line of each testcase contains two integers $n, k$ ($1\\\\le n\\\\le 100,000$, $0\\\\le k\\\\le n$) – the number of games played and the number of outcomes that you can change.\\n\\nThe second line contains a string $s$ of length $n$ containing only the characters W and L. If you have won the $i$-th game then $s_i=\\\\,$W, if you have lost the $i$-th game then $s_i=\\\\,$L.\\n\\nIt is guaranteed that the sum of $n$ over all testcases does not exceed $200,000$.\\n\\n\\n-----Output-----\\n\\nFor each testcase, print a single integer – the maximum score you can get by cheating in the optimal way.\\n\\n\\n-----Example-----\\nInput\\n8\\n5 2\\nWLWLL\\n6 5\\nLLLWWL\\n7 1\\nLWLWLWL\\n15 5\\nWWWLLLWWWLLLWWW\\n40 7\\nLLWLWLWWWLWLLWLWWWLWLLWLLWLLLLWLLWWWLWWL\\n1 0\\nL\\n1 1\\nL\\n6 1\\nWLLWLW\\n\\nOutput\\n7\\n11\\n6\\n26\\n46\\n0\\n1\\n6\\n\\n\\n\\n-----Note-----\\n\\nExplanation of the first testcase. Before changing any outcome, the score is $2$. Indeed, you won the first game, so you got $1$ point, and you won also the third, so you got another $1$ point (and not $2$ because you lost the second game).\\n\\nAn optimal way to cheat is to change the outcomes of the second and fourth game. Doing so, you end up winning the first four games (the string of the outcomes becomes WWWWL). Hence, the new score is $7=1+2+2+2$: $1$ point for the first game and $2$ points for the second, third and fourth game.\\n\\nExplanation of the second testcase. Before changing any outcome, the score is $3$. Indeed, you won the fourth game, so you got $1$ point, and you won also the fifth game, so you got $2$ more points (since you won also the previous game).\\n\\nAn optimal way to cheat is to change the outcomes of the first, second, third and sixth game. Doing so, you end up winning all games (the string of the outcomes becomes WWWWWW). Hence, the new score is $11 = 1+2+2+2+2+2$: $1$ point for the first game and $2$ points for all the other games.',\n",
       " 'solutions': '[\"import sys\\\\ninput = sys.stdin.readline\\\\n\\\\ndef main():\\\\n    n, k = map(int, input().split())\\\\n    string = input().strip()\\\\n    if \\\\\"W\\\\\" not in string:\\\\n        ans = min(n, k) * 2 - 1\\\\n        print(max(ans, 0))\\\\n        return\\\\n        \\\\n    L_s = []\\\\n    cnt = 0\\\\n    bef = string[0]\\\\n    ans = 0\\\\n    for s in string:\\\\n        if s == bef:\\\\n            cnt += 1\\\\n        else:\\\\n            if bef == \\\\\"L\\\\\":\\\\n                L_s.append(cnt)\\\\n            else:\\\\n                ans += cnt * 2 - 1\\\\n            cnt = 1\\\\n        bef = s\\\\n    if bef == \\\\\"W\\\\\":\\\\n        ans += cnt * 2 - 1\\\\n        cnt = 0\\\\n        \\\\n    if string[0] == \\\\\"L\\\\\" and L_s:\\\\n        cnt += L_s[0]\\\\n        L_s = L_s[1:]\\\\n    L_s.sort()\\\\n    for l in L_s:\\\\n        if k >= l:\\\\n            ans += l * 2 + 1\\\\n            k -= l\\\\n        else:\\\\n            ans += k * 2\\\\n            k = 0\\\\n            \\\\n    ans += 2 * min(k, cnt)\\\\n    print(ans)\\\\n    \\\\n    \\\\n    \\\\nfor _ in range(int(input())):\\\\n    main()\", \"import sys\\\\n\\\\ninput = sys.stdin.readline\\\\n\\\\nfor _ in range(int(input())):\\\\n    n,k = map(int,input().split())\\\\n    s = input()\\\\n    s = [s[i] for i in range(n)]\\\\n\\\\n    base = s.count(\\\\\"W\\\\\")\\\\n    if base == 0:\\\\n        if k:\\\\n            print(2*k-1)\\\\n        else:\\\\n            print(0)\\\\n    elif base+k>=n:\\\\n        print(2*n-1)\\\\n    else:\\\\n        interval = []\\\\n        while s and s[-1]==\\\\\"L\\\\\":\\\\n            s.pop()\\\\n        s = s[::-1]\\\\n        while s and s[-1]==\\\\\"L\\\\\":\\\\n            s.pop()\\\\n\\\\n        while s:\\\\n            if s[-1]==\\\\\"W\\\\\":\\\\n                while s and s[-1]==\\\\\"W\\\\\":\\\\n                    s.pop()\\\\n            else:\\\\n                tmp = 0\\\\n                while s and s[-1]==\\\\\"L\\\\\":\\\\n                    s.pop()\\\\n                    tmp += 1\\\\n                interval.append(tmp)\\\\n        interval.sort(reverse=True)\\\\n        K = k\\\\n        while interval and k:\\\\n            if k>=interval[-1]:\\\\n                k -= interval.pop()\\\\n            else:\\\\n                break\\\\n        print(2*(base+K)-1-len(interval))\", \"import sys\\\\ninput = sys.stdin.readline\\\\n\\\\n\\\\ndef compress(string):\\\\n    string = string + \\\\\"#\\\\\"\\\\n    n = len(string)\\\\n    begin, end, cnt = 0, 1, 1\\\\n    ans = []\\\\n    while end < n:\\\\n        if string[begin] == string[end]:\\\\n            end, cnt = end + 1, cnt + 1\\\\n        else:\\\\n            ans.append((string[begin], cnt))\\\\n            begin, end, cnt = end, end + 1, 1\\\\n    return ans\\\\n\\\\n\\\\nt = int(input())\\\\nfor _ in range(t):\\\\n    n, k = map(int, input().split())\\\\n    s = input()[:-1]\\\\n    \\\\n    s = compress(s)\\\\n\\\\n    \\\\n    w_groups = 0\\\\n    w_cnt = 0\\\\n    l_cnt = 0\\\\n    li = []\\\\n    for i, (char, cnt) in enumerate(s):\\\\n        if char == \\\\\"W\\\\\":\\\\n            w_groups += 1\\\\n            w_cnt += cnt\\\\n        if char == \\\\\"L\\\\\":\\\\n            l_cnt += cnt\\\\n            if 1 <= i < len(s) - 1:\\\\n                li.append(cnt)\\\\n\\\\n    if w_cnt == 0:\\\\n        print(max(min(k, l_cnt) * 2 - 1, 0))\\\\n        continue\\\\n        \\\\n    ans = w_cnt * 2 - w_groups\\\\n    ans += min(k, l_cnt) * 2\\\\n\\\\n    li.sort()\\\\n    for val in li:\\\\n        if k >= val:\\\\n            ans += 1\\\\n            k -= val\\\\n    print(ans)\", \"for _ in range(int(input())):\\\\n    n, k = list(map(int, input().split()))\\\\n    s = input()\\\\n    k = min(k, s.count(\\\\\"L\\\\\"))\\\\n    arr = []\\\\n    cur = 0\\\\n    sc = 0\\\\n    se = False\\\\n    if s[0] == \\\\\"W\\\\\":\\\\n        sc += 1\\\\n    for e in s:\\\\n        if e == \\\\\"L\\\\\":\\\\n            cur += 1\\\\n        else:\\\\n            if cur > 0 and se:\\\\n                arr.append(cur)\\\\n            se = True\\\\n            cur = 0\\\\n    for i in range(1, n):\\\\n        if s[i] == \\\\\"W\\\\\":\\\\n            if s[i-1] == \\\\\"W\\\\\":\\\\n                sc += 2\\\\n            else:\\\\n                sc += 1 \\\\n    arr.sort() \\\\n    arr.reverse()\\\\n    #print(arr, sc)\\\\n    while len(arr) > 0 and arr[-1] <= k:\\\\n        k -= arr[-1]\\\\n        sc += arr[-1]*2+1\\\\n        arr.pop()\\\\n    #print(k)\\\\n    sc += k*2\\\\n    if k > 0 and s.count(\\\\\"W\\\\\") == 0:\\\\n        sc -= 1\\\\n    print(sc)\\\\n\", \"from sys import stdin\\\\n\\\\nt = int(stdin.readline())\\\\nfor i in range(t):\\\\n    n, k = tuple(int(x) for x in stdin.readline().split())\\\\n    line = \\'L\\' * (k+1) + stdin.readline()[:-1] + \\'L\\' * (k+1)\\\\n    score = 0\\\\n    flag = False\\\\n    for char in line:\\\\n        if char == \\'W\\':\\\\n            if flag:\\\\n                score += 2\\\\n            else:\\\\n                score += 1\\\\n                flag = True\\\\n        else:\\\\n            flag = False\\\\n            \\\\n    seq = sorted(len(x) for x in line.split(\\'W\\'))\\\\n\\\\n    if len(seq) == 1:\\\\n        if k == 0:\\\\n            print(0)\\\\n        else:\\\\n            print(2*k-1)\\\\n        continue\\\\n    for item in seq:\\\\n        if item == 0:\\\\n            continue\\\\n        if k - item >= 0:\\\\n            k -= item\\\\n            score += 2 * (item-1) + 3\\\\n        elif k > 0:\\\\n            score += 2 * k\\\\n            break\\\\n        else:\\\\n            break\\\\n    print(min(score, 2*n-1))\\\\n    \\\\n\", \"from sys import stdin\\\\n\\\\\"\\\\\"\\\\\"\\\\nn=int(stdin.readline().strip())\\\\nn,m=map(int,stdin.readline().strip().split())\\\\ns=list(map(int,stdin.readline().strip().split()))\\\\ns=stdin.readline().strip()\\\\n\\\\\"\\\\\"\\\\\"\\\\nT=int(stdin.readline().strip())\\\\nfor caso in range(T):\\\\n    n,k=list(map(int,stdin.readline().strip().split()))\\\\n    s=list(stdin.readline().strip())\\\\n    aux=[]\\\\n    last=-1\\\\n    for i in range(n):\\\\n        if i>0 and s[i]==\\'L\\' and s[i-1]==\\'W\\':\\\\n            last=i\\\\n        if i<n-1 and s[i]==\\'L\\' and s[i+1]==\\'W\\' and last!=-1:\\\\n            aux.append([i-last,last,i])\\\\n    aux.sort()\\\\n    for i in aux:\\\\n        for j in range(i[1],i[2]+1):\\\\n            if k>0:\\\\n                s[j]=\\'W\\'\\\\n                k-=1\\\\n    ini=-1\\\\n    fin=n\\\\n    for i in range(n):\\\\n        if s[i]==\\'W\\':\\\\n            ini=i-1\\\\n            break\\\\n    for i in range(n-1,-1,-1):\\\\n        if s[i]==\\'W\\':\\\\n            fin=i+1\\\\n            break\\\\n    for i in range(ini,-1,-1):\\\\n        if k>0:\\\\n            s[i]=\\'W\\'\\\\n            k-=1\\\\n    for i in range(fin,n):\\\\n        if k>0:\\\\n            s[i]=\\'W\\'\\\\n            k-=1\\\\n    ans=0\\\\n    if ini==-1 and fin==n:\\\\n        for i in range(n):\\\\n            if k>0:\\\\n                s[i]=\\'W\\'\\\\n                k-=1\\\\n    for i in range(n):\\\\n        if s[i]==\\'W\\':\\\\n            if i>0 and s[i-1]==\\'W\\':\\\\n                ans+=2\\\\n            else:\\\\n                ans+=1\\\\n    print(ans)\\\\n            \\\\n        \\\\n        \\\\n\\\\n\", \"for _ in range(int(input())):\\\\n    n, k = list(map(int, input().split()))\\\\n    inp = input().lower()\\\\n    k = min(k, inp.count(\\'l\\'))\\\\n    ans = inp.count(\\'w\\') + tuple(zip(inp, \\'l\\' + inp)).count(\\'ww\\') + k * 2\\\\n    if \\'w\\' in inp:\\\\n        inp2 = []\\\\n        cur = -1\\\\n        for c in inp:\\\\n            if cur != -1:\\\\n                if c == \\'l\\':\\\\n                    cur += 1\\\\n                else:\\\\n                    inp2.append(cur)\\\\n            if c == \\'w\\':\\\\n                cur = 0\\\\n        inp2.sort()\\\\n        for inp2i in inp2:\\\\n            if inp2i > k:\\\\n                break\\\\n            k -= inp2i\\\\n            ans += 1\\\\n    else:\\\\n        ans = max(ans - 1, 0)\\\\n    print(ans)\\\\n\", \"import sys\\\\nreadline = sys.stdin.readline\\\\n\\\\nT = int(readline())\\\\nAns = [None]*T\\\\n\\\\nfor qu in range(T):\\\\n    N, K = list(map(int, readline().split()))\\\\n    S = [1 if s == \\'W\\' else 0 for s in readline().strip()]\\\\n    if all(s == 0 for s in S):\\\\n        Ans[qu] = max(0, 2*K-1)\\\\n        continue\\\\n    \\\\n    ans = 0\\\\n    ctr = 0\\\\n    st = []\\\\n    L = []\\\\n    res = 0\\\\n    hh = False\\\\n    for i in range(N):\\\\n        s = S[i]\\\\n        if s == 1:\\\\n            if i == 0 or S[i-1] == 0:\\\\n                ans += 1\\\\n            else:\\\\n                ans += 2\\\\n            if ctr:\\\\n                st.append(ctr)\\\\n                ctr = 0\\\\n            hh = True\\\\n        else:\\\\n            if hh:    \\\\n                ctr += 1\\\\n            else:\\\\n                res += 1\\\\n    res += ctr\\\\n    st.sort()\\\\n    J = []\\\\n    for s in st:\\\\n        J.extend([2]*(s-1) + [3])\\\\n    J.extend([2]*res)\\\\n    Ans[qu] = ans + sum(J[:min(len(J), K)])\\\\nprint(\\'\\\\\\\\n\\'.join(map(str, Ans)))\\\\n\", \"def solve():\\\\n    n, k = list(map(int, input().split()))\\\\n    s = input()\\\\n    ans = 0\\\\n    prev = False\\\\n    c = []\\\\n    cc = 0\\\\n    for i in range(n):\\\\n        if s[i] == \\'W\\':\\\\n            if cc:\\\\n                if cc != i:\\\\n                    c.append(cc)\\\\n                cc = 0\\\\n            if prev:\\\\n                ans += 2\\\\n            else:\\\\n                ans += 1\\\\n            prev = True\\\\n        else:\\\\n            prev = False\\\\n            cc += 1\\\\n    c.sort()\\\\n    for i in range(len(c)):\\\\n        if c[i] <= k:\\\\n            k -= c[i]\\\\n            ans += c[i] * 2 + 1\\\\n    if \\'W\\' in s:\\\\n        ans += k * 2\\\\n    else:\\\\n        ans += max(k * 2 - 1, 0)\\\\n    ans = min(ans, n * 2 - 1)\\\\n    print(ans)\\\\nt = int(input())\\\\nfor _ in range(t):\\\\n    solve()\\\\n\"]',\n",
       " 'input_output': '{\\n  \"inputs\": [\\n    \"8\\\\n5 2\\\\nWLWLL\\\\n6 5\\\\nLLLWWL\\\\n7 1\\\\nLWLWLWL\\\\n15 5\\\\nWWWLLLWWWLLLWWW\\\\n40 7\\\\nLLWLWLWWWLWLLWLWWWLWLLWLLWLLLLWLLWWWLWWL\\\\n1 0\\\\nL\\\\n1 1\\\\nL\\\\n6 1\\\\nWLLWLW\\\\n\"\\n  ],\\n  \"outputs\": [\\n    \"7\\\\n11\\\\n6\\\\n26\\\\n46\\\\n0\\\\n1\\\\n6\\\\n\"\\n  ]\\n}',\n",
       " 'difficulty': 'interview',\n",
       " 'url': 'https://codeforces.com/problemset/problem/1427/B',\n",
       " 'starter_code': ''}"
      ]
     },
     "execution_count": 101,
     "metadata": {},
     "output_type": "execute_result"
    }
   ],
   "source": [
    "dataset[\"train\"][8]"
   ]
  },
  {
   "cell_type": "code",
   "execution_count": 99,
   "metadata": {},
   "outputs": [
    {
     "name": "stdout",
     "output_type": "stream",
     "text": [
      "import sys\n",
      "input = sys.stdin.readline\n",
      "\n",
      "def main():\n",
      "    n, k = map(int, input().split())\n",
      "    string = input().strip()\n",
      "    if \"W\" not in string:\n",
      "        ans = min(n, k) * 2 - 1\n",
      "        print(max(ans, 0))\n",
      "        return\n",
      "        \n",
      "    L_s = []\n",
      "    cnt = 0\n",
      "    bef = string[0]\n",
      "    ans = 0\n",
      "    for s in string:\n",
      "        if s == bef:\n",
      "            cnt += 1\n",
      "        else:\n",
      "            if bef == \"L\":\n",
      "                L_s.append(cnt)\n",
      "            else:\n",
      "                ans += cnt * 2 - 1\n",
      "            cnt = 1\n",
      "        bef = s\n",
      "    if bef == \"W\":\n",
      "        ans += cnt * 2 - 1\n",
      "        cnt = 0\n",
      "        \n",
      "    if string[0] == \"L\" and L_s:\n",
      "        cnt += L_s[0]\n",
      "        L_s = L_s[1:]\n",
      "    L_s.sort()\n",
      "    for l in L_s:\n",
      "        if k >= l:\n",
      "            ans += l * 2 + 1\n",
      "            k -= l\n",
      "        else:\n",
      "            ans += k * 2\n",
      "            k = 0\n",
      "            \n",
      "    ans += 2 * min(k, cnt)\n",
      "    print(ans)\n",
      "    \n",
      "    \n",
      "    \n",
      "for _ in range(int(input())):\n",
      "    main()\n"
     ]
    }
   ],
   "source": [
    "one_data = dataset[\"train\"][8]\n",
    "# print(one_data[\"question\"])\n",
    "one_data = json.loads(one_data[\"solutions\"])\n",
    "print(one_data[0])\n"
   ]
  },
  {
   "cell_type": "code",
   "execution_count": 94,
   "metadata": {},
   "outputs": [],
   "source": [
    "text = f\"\"\"\n",
    "from typing import List\n",
    "def possible(a):\n",
    "    ans = set()\n",
    "    s = set()\n",
    "    lmax = 0\n",
    "    for i in range(len(a)):\n",
    "        lmax = max(lmax, a[i])\n",
    "        s.add(a[i])\n",
    "        if lmax == i + 1 and len(s) == i + 1:\n",
    "            ans.add(i + 1)\n",
    "    return ans\n",
    "\n",
    "    \n",
    "def function(n: int, a: List[int]):\n",
    "\n",
    "    a = list(map(int, input().split(' ')))\n",
    "    left = possible(a)\n",
    "    a.reverse()\n",
    "    right = possible(a)\n",
    "    ans = []\n",
    "    for l in left:\n",
    "        if n - l in right:\n",
    "            ans.append(l)\n",
    "    print(len(ans))\n",
    "    for l in ans:\n",
    "        print(l, n - l)\n",
    "\"\"\"\n",
    "exec(text)\n",
    "\n"
   ]
  },
  {
   "cell_type": "code",
   "execution_count": 102,
   "metadata": {},
   "outputs": [
    {
     "name": "stderr",
     "output_type": "stream",
     "text": [
      "Downloading readme: 100%|██████████| 13.0k/13.0k [00:00<00:00, 3.50MB/s]\n",
      "Resolving data files: 100%|██████████| 39/39 [00:00<00:00, 47.70it/s]\n",
      "Downloading metadata: 100%|██████████| 4.52k/4.52k [00:00<00:00, 1.46MB/s]\n",
      "Downloading data: 100%|██████████| 180M/180M [01:21<00:00, 2.22MB/s]\n",
      "Downloading data: 100%|██████████| 209M/209M [01:44<00:00, 1.99MB/s]\n",
      "Downloading data: 100%|██████████| 227M/227M [01:24<00:00, 2.68MB/s]\n",
      "Downloading data: 100%|██████████| 181M/181M [01:03<00:00, 2.86MB/s]\n",
      "Downloading data: 100%|██████████| 195M/195M [01:09<00:00, 2.82MB/s]\n",
      "Downloading data: 100%|██████████| 174M/174M [01:01<00:00, 2.83MB/s]\n",
      "Downloading data: 100%|██████████| 186M/186M [01:03<00:00, 2.91MB/s]\n",
      "Downloading data: 100%|██████████| 172M/172M [00:59<00:00, 2.89MB/s]\n",
      "Downloading data: 100%|██████████| 200M/200M [01:08<00:00, 2.90MB/s]\n",
      "Downloading data: 100%|██████████| 205M/205M [01:35<00:00, 2.15MB/s]\n",
      "Downloading data: 100%|██████████| 178M/178M [01:11<00:00, 2.50MB/s]\n",
      "Downloading data: 100%|██████████| 164M/164M [01:31<00:00, 1.80MB/s]\n",
      "Downloading data: 100%|██████████| 200M/200M [01:09<00:00, 2.88MB/s]\n",
      "Downloading data: 100%|██████████| 197M/197M [01:21<00:00, 2.42MB/s]\n",
      "Downloading data: 100%|██████████| 211M/211M [01:47<00:00, 1.97MB/s]\n",
      "Downloading data: 100%|██████████| 179M/179M [01:03<00:00, 2.82MB/s]\n",
      "Downloading data: 100%|██████████| 202M/202M [01:30<00:00, 2.24MB/s]\n",
      "Downloading data: 100%|██████████| 169M/169M [01:16<00:00, 2.21MB/s]\n",
      "Downloading data: 100%|██████████| 185M/185M [01:07<00:00, 2.74MB/s]\n",
      "Downloading data: 100%|██████████| 191M/191M [01:23<00:00, 2.28MB/s]\n",
      "Downloading data: 100%|██████████| 211M/211M [01:14<00:00, 2.83MB/s]\n",
      "Downloading data: 100%|██████████| 181M/181M [01:15<00:00, 2.38MB/s]\n"
     ]
    }
   ],
   "source": [
    "from datasets import load_dataset\n",
    "\n",
    "dataset = load_dataset(\"deepmind/code_contests\")"
   ]
  },
  {
   "cell_type": "code",
   "execution_count": null,
   "metadata": {},
   "outputs": [],
   "source": []
  },
  {
   "cell_type": "code",
   "execution_count": 61,
   "metadata": {},
   "outputs": [],
   "source": [
    "\n"
   ]
  },
  {
   "cell_type": "code",
   "execution_count": 46,
   "metadata": {},
   "outputs": [],
   "source": [
    "system_prompt = f\"\"\"I have the following code. Your job is to give me some test cases that achieves maximum code coverage.\n",
    "Return your test cases as a list of tuples. Each tuple is a test case. The first element of the tuple is the first argument of the function. The second element of the tuple is the second argument of the function. The third element of the tuple is the expected output of the function.\n",
    "\"\"\""
   ]
  },
  {
   "cell_type": "code",
   "execution_count": 48,
   "metadata": {},
   "outputs": [
    {
     "data": {
      "text/plain": [
       "'Test cases:\\n1. (1, 1, 1) -> Expected output: 1\\n2. (2, 2, 2) -> Expected output: 2\\n3. (3, 3, 3) -> Expected output: 3\\n4. (4, 4, 4) -> Expected output: 4\\n5. (5, 5, 5) -> Expected output: 5\\n6. (6, 6, 6) -> Expected output: 6\\n7. (7, 7, 7) -> Expected output: 7\\n8. (8, 8, 8) -> Expected output: 8\\n9. (9, 9, 9) -> Expected output: 9\\n10. (10, 10, 10) -> Expected output: 10\\n11. (11, 11, 11) -> Expected output: 11\\n12. (12, 12, 12) -> Expected output: 12\\n13. (13, 13, 13) -> Expected output: 13\\n14. (14, 14, 14) -> Expected output: 14\\n15. (15, 15, 15) -> Expected output: 15\\n16. (16, 16, 16) -> Expected output: 16\\n17. (17, 17, 17) -> Expected output: 17\\n18. (18, 18, 18) -> Expected output: 18\\n19. (19, 19, 19) -> Expected output: 19\\n20. (20, 20, 20) -> Expected output: 20'"
      ]
     },
     "execution_count": 48,
     "metadata": {},
     "output_type": "execute_result"
    }
   ],
   "source": [
    "get_gpt_response(one_data[0], system_prompt=system_prompt)"
   ]
  },
  {
   "cell_type": "code",
   "execution_count": null,
   "metadata": {},
   "outputs": [],
   "source": []
  },
  {
   "cell_type": "code",
   "execution_count": null,
   "metadata": {},
   "outputs": [],
   "source": []
  },
  {
   "cell_type": "code",
   "execution_count": 36,
   "metadata": {},
   "outputs": [],
   "source": []
  },
  {
   "cell_type": "code",
   "execution_count": 4,
   "metadata": {},
   "outputs": [
    {
     "data": {
      "text/plain": [
       "'The concepts of good and evil are highly subjective and can vary based on cultural, social, and personal beliefs. Generally, good is associated with positive qualities such as kindness, honesty, compassion, and moral righteousness. It involves actions and behaviors that benefit others and contribute to the well-being of individuals or society as a whole.\\n\\nEvil, on the other hand, is often defined as the opposite of good and encompasses actions and behaviors that cause harm, suffering, or destruction. It involves intentional wrongdoing, immorality, and a lack of empathy or consideration for others.\\n\\nHowever, it is important to note that what is considered good or evil can be influenced by various factors, including cultural norms, religious beliefs, and personal perspectives. Different cultures and belief systems may have different definitions and interpretations of good and evil, leading to a wide range of moral and ethical systems.'"
      ]
     },
     "execution_count": 4,
     "metadata": {},
     "output_type": "execute_result"
    }
   ],
   "source": [
    "get_gpt_response(\"What is good and what is evil?\")"
   ]
  }
 ],
 "metadata": {
  "kernelspec": {
   "display_name": "openai",
   "language": "python",
   "name": "python3"
  },
  "language_info": {
   "codemirror_mode": {
    "name": "ipython",
    "version": 3
   },
   "file_extension": ".py",
   "mimetype": "text/x-python",
   "name": "python",
   "nbconvert_exporter": "python",
   "pygments_lexer": "ipython3",
   "version": "3.9.15"
  }
 },
 "nbformat": 4,
 "nbformat_minor": 2
}
