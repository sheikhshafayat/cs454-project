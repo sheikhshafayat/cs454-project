{
 "cells": [
  {
   "cell_type": "code",
   "execution_count": 2,
   "metadata": {},
   "outputs": [],
   "source": [
    "import openai\n",
    "import os\n",
    "with open(\"openai-api-.txt\", \"r\") as f: # put your own api\n",
    "    line = f.readline()    \n",
    "\n",
    "os.environ[\"OPENAI_API_KEY\"] = line\n",
    "openai.api_key = os.getenv(\"OPENAI_API_KEY\")"
   ]
  },
  {
   "cell_type": "code",
   "execution_count": 1,
   "metadata": {},
   "outputs": [
    {
     "name": "stderr",
     "output_type": "stream",
     "text": [
      "/Users/sheikh/miniconda3/envs/openai/lib/python3.9/site-packages/tqdm/auto.py:22: TqdmWarning: IProgress not found. Please update jupyter and ipywidgets. See https://ipywidgets.readthedocs.io/en/stable/user_install.html\n",
      "  from .autonotebook import tqdm as notebook_tqdm\n",
      "Downloading builder script: 100%|██████████| 4.95k/4.95k [00:00<00:00, 2.07MB/s]\n",
      "Downloading readme: 100%|██████████| 5.63k/5.63k [00:00<00:00, 2.16MB/s]\n",
      "Downloading data: 100%|██████████| 107M/107M [00:09<00:00, 11.6MB/s]\n",
      "Downloading data: 100%|██████████| 1.29G/1.29G [01:40<00:00, 12.9MB/s]\n",
      "Downloading data files: 100%|██████████| 2/2 [01:53<00:00, 56.97s/it]\n",
      "Extracting data files: 100%|██████████| 2/2 [00:00<00:00, 298.37it/s]\n",
      "Generating train split: 5000 examples [00:01, 3682.64 examples/s]\n",
      "Generating test split: 5000 examples [00:09, 535.31 examples/s] \n"
     ]
    }
   ],
   "source": [
    "from datasets import load_dataset\n",
    "\n",
    "dataset = load_dataset(\"codeparrot/apps\")"
   ]
  },
  {
   "cell_type": "code",
   "execution_count": 3,
   "metadata": {},
   "outputs": [],
   "source": [
    "from library import *"
   ]
  },
  {
   "cell_type": "code",
   "execution_count": 4,
   "metadata": {},
   "outputs": [
    {
     "data": {
      "text/plain": [
       "'The concepts of good and evil are highly subjective and can vary based on cultural, social, and personal beliefs. Generally, good is associated with positive qualities such as kindness, honesty, compassion, and moral righteousness. It involves actions and behaviors that benefit others and contribute to the well-being of individuals or society as a whole.\\n\\nEvil, on the other hand, is often defined as the opposite of good and encompasses actions and behaviors that cause harm, suffering, or destruction. It involves intentional wrongdoing, immorality, and a lack of empathy or consideration for others.\\n\\nHowever, it is important to note that what is considered good or evil can be influenced by various factors, including cultural norms, religious beliefs, and personal perspectives. Different cultures and belief systems may have different definitions and interpretations of good and evil, leading to a wide range of moral and ethical systems.'"
      ]
     },
     "execution_count": 4,
     "metadata": {},
     "output_type": "execute_result"
    }
   ],
   "source": [
    "get_gpt_response(\"What is good and what is evil?\")"
   ]
  }
 ],
 "metadata": {
  "kernelspec": {
   "display_name": "openai",
   "language": "python",
   "name": "python3"
  },
  "language_info": {
   "codemirror_mode": {
    "name": "ipython",
    "version": 3
   },
   "file_extension": ".py",
   "mimetype": "text/x-python",
   "name": "python",
   "nbconvert_exporter": "python",
   "pygments_lexer": "ipython3",
   "version": "3.9.15"
  }
 },
 "nbformat": 4,
 "nbformat_minor": 2
}
