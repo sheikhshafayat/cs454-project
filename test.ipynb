{
 "cells": [
  {
   "cell_type": "code",
   "execution_count": 3,
   "metadata": {},
   "outputs": [],
   "source": [
    "import openai\n",
    "import os\n",
    "import json\n",
    "with open(\"openai-api-.txt\", \"r\") as f: # put your own api\n",
    "    line = f.readline()    \n",
    "\n",
    "os.environ[\"OPENAI_API_KEY\"] = line\n",
    "openai.api_key = os.getenv(\"OPENAI_API_KEY\")\n",
    "from library import *"
   ]
  },
  {
   "cell_type": "code",
   "execution_count": 4,
   "metadata": {},
   "outputs": [
    {
     "name": "stderr",
     "output_type": "stream",
     "text": [
      "C:\\Users\\caign\\AppData\\Local\\Packages\\PythonSoftwareFoundation.Python.3.10_qbz5n2kfra8p0\\LocalCache\\local-packages\\Python310\\site-packages\\tqdm\\auto.py:21: TqdmWarning: IProgress not found. Please update jupyter and ipywidgets. See https://ipywidgets.readthedocs.io/en/stable/user_install.html\n",
      "  from .autonotebook import tqdm as notebook_tqdm\n"
     ]
    }
   ],
   "source": [
    "from datasets import load_dataset\n",
    "\n",
    "dataset = load_dataset(\"codeparrot/apps\")"
   ]
  },
  {
   "cell_type": "code",
   "execution_count": 5,
   "metadata": {},
   "outputs": [
    {
     "name": "stdout",
     "output_type": "stream",
     "text": [
      "Dataset({\n",
      "    features: ['problem_id', 'question', 'solutions', 'input_output', 'difficulty', 'url', 'starter_code'],\n",
      "    num_rows: 5000\n",
      "})\n",
      "HEAD: \n",
      "\n",
      "   problem_id                                           question  \\\n",
      "0           0  Polycarp has $n$ different binary words. A wor...   \n",
      "1           1  Mikhail walks on a Cartesian plane. He starts ...   \n",
      "2           2  You are given three sequences: $a_1, a_2, \\ldo...   \n",
      "3           3  You have $n$ barrels lined up in a row, number...   \n",
      "4           4  You are given a permutation $p=[p_1, p_2, \\ldo...   \n",
      "\n",
      "                                           solutions  \\\n",
      "0  [\"for _ in range(int(input())):\\n    n = int(i...   \n",
      "1  [\"q=int(input())\\n\\nfor e in range(q):\\n    x,...   \n",
      "2  [\"import sys\\nimport random\\nfrom fractions im...   \n",
      "3  [\"def solve():\\n    n, k = map(int,input().spl...   \n",
      "4  [\"for _ in range(int(input())):\\n    input()\\n...   \n",
      "\n",
      "                                        input_output difficulty  \\\n",
      "0  {\\n  \"inputs\": [\\n    \"4\\n4\\n0001\\n1000\\n0011\\...  interview   \n",
      "1  {\\n  \"inputs\": [\\n    \"3\\n2 2 3\\n4 3 7\\n10 1 9...  interview   \n",
      "2  {\\n  \"inputs\": [\\n    \"5\\n3\\n1 1 1\\n2 2 2\\n3 3...  interview   \n",
      "3  {\\n  \"inputs\": [\\n    \"2\\n4 1\\n5 5 5 5\\n3 2\\n0...  interview   \n",
      "4  {\\n  \"inputs\": [\\n    \"3\\n6\\n4 5 1 3 2 6\\n5\\n5...  interview   \n",
      "\n",
      "                                                url starter_code  \n",
      "0  https://codeforces.com/problemset/problem/1259/D               \n",
      "1  https://codeforces.com/problemset/problem/1036/B               \n",
      "2  https://codeforces.com/problemset/problem/1408/A               \n",
      "3  https://codeforces.com/problemset/problem/1430/B               \n",
      "4  https://codeforces.com/problemset/problem/1265/B               \n",
      "DESCRIBE:\n",
      "\n",
      "        problem_id\n",
      "count  5000.000000\n",
      "mean   2499.500000\n",
      "std    1443.520003\n",
      "min       0.000000\n",
      "25%    1249.750000\n",
      "50%    2499.500000\n",
      "75%    3749.250000\n",
      "max    4999.000000\n",
      "INFO:\n",
      "\n",
      "<class 'pandas.core.frame.DataFrame'>\n",
      "RangeIndex: 5000 entries, 0 to 4999\n",
      "Data columns (total 7 columns):\n",
      " #   Column        Non-Null Count  Dtype \n",
      "---  ------        --------------  ----- \n",
      " 0   problem_id    5000 non-null   int64 \n",
      " 1   question      5000 non-null   object\n",
      " 2   solutions     5000 non-null   object\n",
      " 3   input_output  5000 non-null   object\n",
      " 4   difficulty    5000 non-null   object\n",
      " 5   url           5000 non-null   object\n",
      " 6   starter_code  5000 non-null   object\n",
      "dtypes: int64(1), object(6)\n",
      "memory usage: 273.6+ KB\n",
      "None\n",
      "DIFFICULTY:\n",
      "\n",
      "Different levels of difficulty: ['interview' 'competition' 'introductory']\n",
      "IDs of rows with difficulty 'introductory': [2361, 2362, 2363, 2364, 2365, 2366, 2367, 2368, 2369, 2370, 2371, 2372, 2373, 2374, 2375, 2376, 2377, 2378, 2379, 2380, 2381, 2382, 2383, 2384, 2385, 2386, 2387, 2388, 2389, 2390, 2391, 2392, 2393, 2394, 2395, 2396, 2397, 2398, 2399, 2400, 2401, 2402, 2403, 2404, 2405, 2406, 2407, 2408, 2409, 2410, 2411, 2412, 2413, 2414, 2415, 2416, 2417, 2418, 2419, 2420, 2421, 2422, 2423, 2424, 2425, 2426, 2427, 2428, 2429, 2430, 2431, 2432, 2433, 2434, 2435, 2436, 2437, 2438, 2439, 2440, 2441, 2442, 2443, 2444, 2445, 2446, 2447, 2448, 2449, 2450, 2451, 2452, 2453, 2454, 2455, 2456, 2457, 2458, 2459, 2460, 2461, 2462, 2463, 2464, 2465, 2466, 2467, 2468, 2469, 2470, 2471, 2472, 2473, 2474, 2475, 2476, 2477, 2478, 2479, 2480, 2481, 2482, 2483, 2484, 2485, 2486, 2487, 2488, 2489, 2490, 2491, 2492, 2493, 2494, 2495, 2496, 2497, 2498, 2499, 2500, 2501, 2502, 2503, 2504, 2505, 2506, 2507, 2508, 2509, 2510, 2511, 2512, 2513, 2514, 2515, 2516, 2517, 2518, 2519, 2520, 2521, 2522, 2523, 2524, 2525, 2526, 2527, 2528, 2529, 2530, 2531, 2532, 2533, 2534, 2535, 2536, 2537, 2538, 2539, 2540, 2541, 2542, 2543, 2544, 2545, 2546, 2547, 2548, 2549, 2550, 2551, 2552, 2553, 2554, 2555, 2556, 2557, 2558, 2559, 2560, 2561, 2562, 2563, 2564, 2565, 2566, 2567, 2568, 2569, 2570, 2571, 2572, 2573, 2574, 2575, 2576, 2577, 2578, 2579, 2580, 2581, 2582, 2583, 2584, 2585, 2586, 2587, 2588, 2589, 2590, 2591, 2592, 2593, 2594, 2595, 2596, 2597, 2598, 2599, 2600, 2601, 2602, 2603, 2604, 2605, 2606, 2607, 2608, 2609, 2610, 2611, 2612, 2613, 2614, 2615, 2616, 2617, 2618, 2619, 2620, 2621, 2622, 2623, 2624, 2625, 2626, 2627, 2628, 2629, 2630, 2631, 2632, 2633, 2634, 2635, 2636, 2637, 2638, 2639, 2640, 2641, 2642, 2643, 2644, 2645, 2646, 2647, 2648, 2649, 2650, 2651, 2652, 2653, 2654, 2655, 2656, 2657, 2658, 2659, 2660, 2661, 2662, 2663, 2664, 2665, 2666, 2667, 2668, 2669, 2670, 2671, 2672, 2673, 2674, 2675, 2676, 2677, 2678, 2679, 2680, 2681, 2682, 2683, 2684, 2685, 2686, 2687, 2688, 2689, 2690, 2691, 2692, 2693, 2694, 2695, 2696, 2697, 2698, 2699, 2700, 2701, 2702, 2703, 2704, 2705, 2706, 2707, 2708, 2709, 2710, 2711, 2712, 2713, 2714, 2715, 2716, 2717, 2718, 2719, 2720, 2721, 2722, 2723, 2724, 2725, 2726, 2727, 2728, 2729, 2730, 2731, 2732, 2733, 2734, 2735, 2736, 2737, 2738, 2739, 2740, 2741, 2742, 2743, 2744, 2745, 2746, 2747, 2748, 2749, 2750, 2751, 2752, 2753, 2754, 2755, 2756, 2757, 2758, 2759, 2760, 2761, 2762, 2763, 2764, 2765, 2766, 2767, 2768, 2769, 2770, 2771, 2772, 2773, 2774, 2775, 2776, 2777, 2778, 2779, 2780, 2781, 2782, 2783, 2784, 2785, 2786, 2787, 2788, 2789, 2790, 2791, 2792, 2793, 2794, 2795, 2796, 2797, 2798, 2799, 2800, 2801, 2802, 2803, 2804, 2805, 2806, 2807, 2808, 2809, 2810, 2811, 2812, 2813, 2814, 2815, 2816, 2817, 2818, 2819, 2820, 2821, 2822, 2823, 2824, 2825, 2826, 2827, 2828, 2829, 2830, 2831, 2832, 2833, 2834, 2835, 2836, 2837, 2838, 2839, 2840, 2841, 2842, 2843, 2844, 2845, 2846, 2847, 2848, 2849, 2850, 2851, 2852, 2853, 2854, 2855, 2856, 2857, 2858, 2859, 2860, 2861, 2862, 2863, 2864, 2865, 2866, 2867, 2868, 2869, 2870, 2871, 2872, 2873, 2874, 2875, 2876, 2877, 2878, 2879, 2880, 2881, 2882, 2883, 2884, 2885, 2886, 2887, 2888, 2889, 2890, 2891, 2892, 2893, 2894, 2895, 2896, 2897, 2898, 2899, 2900, 2901, 2902, 2903, 2904, 2905, 2906, 2907, 2908, 2909, 2910, 2911, 2912, 2913, 2914, 2915, 2916, 2917, 2918, 2919, 2920, 2921, 2922, 2923, 2924, 2925, 2926, 2927, 2928, 2929, 2930, 2931, 2932, 2933, 2934, 2935, 2936, 2937, 2938, 2939, 2940, 2941, 2942, 2943, 2944, 2945, 2946, 2947, 2948, 2949, 2950, 2951, 2952, 2953, 2954, 2955, 2956, 2957, 2958, 2959, 2960, 2961, 2962, 2963, 2964, 2965, 2966, 2967, 2968, 2969, 2970, 2971, 2972, 2973, 2974, 2975, 2976, 2977, 2978, 2979, 2980, 2981, 2982, 2983, 2984, 2985, 2986, 2987, 2988, 2989, 2990, 2991, 2992, 2993, 2994, 2995, 2996, 2997, 2998, 2999, 3000, 3001, 3002, 3003, 3004, 3005, 3006, 3007, 3008, 3009, 3010, 3011, 3012, 3013, 3014, 3015, 3016, 3017, 3018, 3019, 3020, 3021, 3022, 3023, 3024, 3025, 3026, 3027, 3028, 3029, 3030, 3031, 3032, 3033, 3034, 3035, 3036, 3037, 3038, 3039, 3040, 3041, 3042, 3043, 3044, 3045, 3046, 3047, 3048, 3049, 3050, 3051, 3052, 3053, 3054, 3055, 3056, 3057, 3058, 3059, 3060, 3061, 3062, 3063, 3064, 3065, 3066, 3067, 3068, 3069, 3070, 3071, 3072, 3073, 3074, 3075, 3076, 3077, 3078, 3079, 3080, 3081, 3082, 3083, 3084, 3085, 3086, 3087, 3088, 3089, 3090, 3091, 3092, 3093, 3094, 3095, 3096, 3097, 3098, 3099, 3100, 3101, 3102, 3103, 3104, 3105, 3106, 3107, 3108, 3109, 3110, 3111, 3112, 3113, 3114, 3115, 3116, 3117, 3118, 3119, 3120, 3121, 3122, 3123, 3124, 3125, 3126, 3127, 3128, 3129, 3130, 3131, 3132, 3133, 3134, 3135, 3136, 3137, 3138, 3139, 3140, 3141, 3142, 3143, 3144, 3145, 3146, 3147, 3148, 3149, 3150, 3151, 3152, 3153, 3154, 3155, 3156, 3157, 3158, 3159, 3160, 3161, 3162, 3163, 3164, 3165, 3166, 3167, 3168, 3169, 3170, 3171, 3172, 3173, 3174, 3175, 3176, 3177, 3178, 3179, 3180, 3181, 3182, 3183, 3184, 3185, 3186, 3187, 3188, 3189, 3190, 3191, 3192, 3193, 3194, 3195, 3196, 3197, 3198, 3199, 3200, 3201, 3202, 3203, 3204, 3205, 3206, 3207, 3208, 3209, 3210, 3211, 3212, 3213, 3214, 3215, 3216, 3217, 3218, 3219, 3220, 3221, 3222, 3223, 3224, 3225, 3226, 3227, 3228, 3229, 3230, 3231, 3232, 3233, 3234, 3235, 3236, 3237, 3238, 3239, 3240, 3241, 3242, 3243, 3244, 3245, 3246, 3247, 3248, 3249, 3250, 3251, 3252, 3253, 3254, 3255, 3256, 3257, 3258, 3259, 3260, 3261, 3262, 3263, 3264, 3265, 3266, 3267, 3268, 3269, 3270, 3271, 3272, 3273, 3274, 3275, 3276, 3277, 3278, 3279, 3280, 3281, 3282, 3283, 3284, 3285, 3286, 3287, 3288, 3289, 3290, 3291, 3292, 3293, 3294, 3295, 3296, 3297, 3298, 3299, 3300, 3301, 3302, 3303, 3304, 3305, 3306, 3307, 3308, 3309, 3310, 3311, 3312, 3313, 3314, 3315, 3316, 3317, 3318, 3319, 3320, 3321, 3322, 3323, 3324, 3325, 3326, 3327, 3328, 3329, 3330, 3331, 3332, 3333, 3334, 3335, 3336, 3337, 3338, 3339, 3340, 3341, 3342, 3343, 3344, 3345, 3346, 3347, 3348, 3349, 3350, 3351, 3352, 3353, 3354, 3355, 3356, 3357, 3358, 3359, 3360, 3361, 3362, 3363, 3364, 3365, 3366, 3367, 3368, 3369, 3370, 3371, 3372, 3373, 3374, 3375, 3376, 3377, 3378, 3379, 3380, 3381, 3382, 3383, 3384, 3385, 3386, 3387, 3388, 3389, 3390, 3391, 3392, 3393, 3394, 3395, 3396, 3397, 3398, 3399, 3400, 3401, 3402, 3403, 3404, 3405, 3406, 3407, 3408, 3409, 3410, 3411, 3412, 3413, 3414, 3415, 3416, 3417, 3418, 3419, 3420, 3421, 3422, 3423, 3424, 3425, 3426, 3427, 3428, 3429, 3430, 3431, 3432, 3433, 3434, 3435, 3436, 3437, 3438, 3439, 3440, 3441, 3442, 3443, 3444, 3445, 3446, 3447, 3448, 3449, 3450, 3451, 3452, 3453, 3454, 3455, 3456, 3457, 3458, 3459, 3460, 3461, 3462, 3463, 3464, 3465, 3466, 3467, 3468, 3469, 3470, 3471, 3472, 3473, 3474, 3475, 3476, 3477, 3478, 3479, 3480, 3481, 3482, 3483, 3484, 3485, 3486, 3487, 3488, 3489, 3490, 3491, 3492, 3493, 3494, 3495, 3496, 3497, 3498, 3499, 3500, 3501, 3502, 3503, 3504, 3505, 3506, 3507, 3508, 3509, 3510, 3511, 3512, 3513, 3514, 3515, 3516, 3517, 3518, 3519, 3520, 3521, 3522, 3523, 3524, 3525, 3526, 3527, 3528, 3529, 3530, 3531, 3532, 3533, 3534, 3535, 3536, 3537, 3538, 3539, 3540, 3541, 3542, 3543, 3544, 3545, 3546, 3547, 3548, 3549, 3550, 3551, 3552, 3553, 3554, 3555, 3556, 3557, 3558, 3559, 3560, 3561, 3562, 3563, 3564, 3565, 3566, 3567, 3568, 3569, 3570, 3571, 3572, 3573, 3574, 3575, 3576, 3577, 3578, 3579, 3580, 3581, 3582, 3583, 3584, 3585, 3586, 3587, 3588, 3589, 3590, 3591, 3592, 3593, 3594, 3595, 3596, 3597, 3598, 3599, 3600, 3601, 3602, 3603, 3604, 3605, 3606, 3607, 3608, 3609, 3610, 3611, 3612, 3613, 3614, 3615, 3616, 3617, 3618, 3619, 3620, 3621, 3622, 3623, 3624, 3625, 3626, 3627, 3628, 3629, 3630, 3631, 3632, 3633, 3634, 3635, 3636, 3637, 3638, 3639, 3640, 3641, 3642, 3643, 3644, 3645, 3646, 3647, 3648, 3649, 3650, 3651, 3652, 3653, 3654, 3655, 3656, 3657, 3658, 3659, 3660, 3661, 3662, 3663, 3664, 3665, 3666, 3667, 3668, 3669, 3670, 3671, 3672, 3673, 3674, 3675, 3676, 3677, 3678, 3679, 3680, 3681, 3682, 3683, 3684, 3685, 3686, 3687, 3688, 3689, 3690, 3691, 3692, 3693, 3694, 3695, 3696, 3697, 3698, 3699, 3700, 3701, 3702, 3703, 3704, 3705, 3706, 3707, 3708, 3709, 3710, 3711, 3712, 3713, 3714, 3715, 3716, 3717, 3718, 3719, 3720, 3721, 3722, 3723, 3724, 3725, 3726, 3727, 3728, 3729, 3730, 3731, 3732, 3733, 3734, 3735, 3736, 3737, 3738, 3739, 3740, 3741, 3742, 3743, 3744, 3745, 3746, 3747, 3748, 3749, 3750, 3751, 3752, 3753, 3754, 3755, 3756, 3757, 3758, 3759, 3760, 3761, 3762, 3763, 3764, 3765, 3766, 3767, 3768, 3769, 3770, 3771, 3772, 3773, 3774, 3775, 3776, 3777, 3778, 3779, 3780, 3781, 3782, 3783, 3784, 3785, 3786, 3787, 3788, 3789, 3790, 3791, 3792, 3793, 3794, 3795, 3796, 3797, 3798, 3799, 3800, 3801, 3802, 3803, 3804, 3805, 3806, 3807, 3808, 3809, 3810, 3811, 3812, 3813, 3814, 3815, 3816, 3817, 3818, 3819, 3820, 3821, 3822, 3823, 3824, 3825, 3826, 3827, 3828, 3829, 3830, 3831, 3832, 3833, 3834, 3835, 3836, 3837, 3838, 3839, 3840, 3841, 3842, 3843, 3844, 3845, 3846, 3847, 3848, 3849, 3850, 3851, 3852, 3853, 3854, 3855, 3856, 3857, 3858, 3859, 3860, 3861, 3862, 3863, 3864, 3865, 3866, 3867, 3868, 3869, 3870, 3871, 3872, 3873, 3874, 3875, 3876, 3877, 3878, 3879, 3880, 3881, 3882, 3883, 3884, 3885, 3886, 3887, 3888, 3889, 3890, 3891, 3892, 3893, 3894, 3895, 3896, 3897, 3898, 3899, 3900, 3901, 3902, 3903, 3904, 3905, 3906, 3907, 3908, 3909, 3910, 3911, 3912, 3913, 3914, 3915, 3916, 3917, 3918, 3919, 3920, 3921, 3922, 3923, 3924, 3925, 3926, 3927, 3928, 3929, 3930, 3931, 3932, 3933, 3934, 3935, 3936, 3937, 3938, 3939, 3940, 3941, 3942, 3943, 3944, 3945, 3946, 3947, 3948, 3949, 3950, 3951, 3952, 3953, 3954, 3955, 3956, 3957, 3958, 3959, 3960, 3961, 3962, 3963, 3964, 3965, 3966, 3967, 3968, 3969, 3970, 3971, 3972, 3973, 3974, 3975, 3976, 3977, 3978, 3979, 3980, 3981, 3982, 3983, 3984, 3985, 3986, 3987, 3988, 3989, 3990, 3991, 3992, 3993, 3994, 3995, 3996, 3997, 3998, 3999, 4000, 4001, 4002, 4003, 4004, 4005, 4006, 4007, 4008, 4009, 4010, 4011, 4012, 4013, 4014, 4015, 4016, 4017, 4018, 4019, 4020, 4021, 4022, 4023, 4024, 4025, 4026, 4027, 4028, 4029, 4030, 4031, 4032, 4033, 4034, 4035, 4036, 4037, 4038, 4039, 4040, 4041, 4042, 4043, 4044, 4045, 4046, 4047, 4048, 4049, 4050, 4051, 4052, 4053, 4054, 4055, 4056, 4057, 4058, 4059, 4060, 4061, 4062, 4063, 4064, 4065, 4066, 4067, 4068, 4069, 4070, 4071, 4072, 4073, 4074, 4075, 4076, 4077, 4078, 4079, 4080, 4081, 4082, 4083, 4084, 4085, 4086, 4087, 4088, 4089, 4090, 4091, 4092, 4093, 4094, 4095, 4096, 4097, 4098, 4099, 4100, 4101, 4102, 4103, 4104, 4105, 4106, 4107, 4108, 4109, 4110, 4111, 4112, 4113, 4114, 4115, 4116, 4117, 4118, 4119, 4120, 4121, 4122, 4123, 4124, 4125, 4126, 4127, 4128, 4129, 4130, 4131, 4132, 4133, 4134, 4135, 4136, 4137, 4138, 4139, 4140, 4141, 4142, 4143, 4144, 4145, 4146, 4147, 4148, 4149, 4150, 4151, 4152, 4153, 4154, 4155, 4156, 4157, 4158, 4159, 4160, 4161, 4162, 4163, 4164, 4165, 4166, 4167, 4168, 4169, 4170, 4171, 4172, 4173, 4174, 4175, 4176, 4177, 4178, 4179, 4180, 4181, 4182, 4183, 4184, 4185, 4186, 4187, 4188, 4189, 4190, 4191, 4192, 4193, 4194, 4195, 4196, 4197, 4198, 4199, 4200, 4201, 4202, 4203, 4204, 4205, 4206, 4207, 4208, 4209, 4210, 4211, 4212, 4213, 4214, 4215, 4216, 4217, 4218, 4219, 4220, 4221, 4222, 4223, 4224, 4225, 4226, 4227, 4228, 4229, 4230, 4231, 4232, 4233, 4234, 4235, 4236, 4237, 4238, 4239, 4240, 4241, 4242, 4243, 4244, 4245, 4246, 4247, 4248, 4249, 4250, 4251, 4252, 4253, 4254, 4255, 4256, 4257, 4258, 4259, 4260, 4261, 4262, 4263, 4264, 4265, 4266, 4267, 4268, 4269, 4270, 4271, 4272, 4273, 4274, 4275, 4276, 4277, 4278, 4279, 4280, 4281, 4282, 4283, 4284, 4285, 4286, 4287, 4288, 4289, 4290, 4291, 4292, 4293, 4294, 4295, 4296, 4297, 4298, 4299, 4300, 4301, 4302, 4303, 4304, 4305, 4306, 4307, 4308, 4309, 4310, 4311, 4312, 4313, 4314, 4315, 4316, 4317, 4318, 4319, 4320, 4321, 4322, 4323, 4324, 4325, 4326, 4327, 4328, 4329, 4330, 4331, 4332, 4333, 4334, 4335, 4336, 4337, 4338, 4339, 4340, 4341, 4342, 4343, 4344, 4345, 4346, 4347, 4348, 4349, 4350, 4351, 4352, 4353, 4354, 4355, 4356, 4357, 4358, 4359, 4360, 4361, 4362, 4363, 4364, 4365, 4366, 4367, 4368, 4369, 4370, 4371, 4372, 4373, 4374, 4375, 4376, 4377, 4378, 4379, 4380, 4381, 4382, 4383, 4384, 4385, 4386, 4387, 4388, 4389, 4390, 4391, 4392, 4393, 4394, 4395, 4396, 4397, 4398, 4399, 4400, 4401, 4402, 4403, 4404, 4405, 4406, 4407, 4408, 4409, 4410, 4411, 4412, 4413, 4414, 4415, 4416, 4417, 4418, 4419, 4420, 4421, 4422, 4423, 4424, 4425, 4426, 4427, 4428, 4429, 4430, 4431, 4432, 4433, 4434, 4435, 4436, 4437, 4438, 4439, 4440, 4441, 4442, 4443, 4444, 4445, 4446, 4447, 4448, 4449, 4450, 4451, 4452, 4453, 4454, 4455, 4456, 4457, 4458, 4459, 4460, 4461, 4462, 4463, 4464, 4465, 4466, 4467, 4468, 4469, 4470, 4471, 4472, 4473, 4474, 4475, 4476, 4477, 4478, 4479, 4480, 4481, 4482, 4483, 4484, 4485, 4486, 4487, 4488, 4489, 4490, 4491, 4492, 4493, 4494, 4495, 4496, 4497, 4498, 4499, 4500, 4501, 4502, 4503, 4504, 4505, 4506, 4507, 4508, 4509, 4510, 4511, 4512, 4513, 4514, 4515, 4516, 4517, 4518, 4519, 4520, 4521, 4522, 4523, 4524, 4525, 4526, 4527, 4528, 4529, 4530, 4531, 4532, 4533, 4534, 4535, 4536, 4537, 4538, 4539, 4540, 4541, 4542, 4543, 4544, 4545, 4546, 4547, 4548, 4549, 4550, 4551, 4552, 4553, 4554, 4555, 4556, 4557, 4558, 4559, 4560, 4561, 4562, 4563, 4564, 4565, 4566, 4567, 4568, 4569, 4570, 4571, 4572, 4573, 4574, 4575, 4576, 4577, 4578, 4579, 4580, 4581, 4582, 4583, 4584, 4585, 4586, 4587, 4588, 4589, 4590, 4591, 4592, 4593, 4594, 4595, 4596, 4597, 4598, 4599, 4600, 4601, 4602, 4603, 4604, 4605, 4606, 4607, 4608, 4609, 4610, 4611, 4612, 4613, 4614, 4615, 4616, 4617, 4618, 4619, 4620, 4621, 4622, 4623, 4624, 4625, 4626, 4627, 4628, 4629, 4630, 4631, 4632, 4633, 4634, 4635, 4636, 4637, 4638, 4639, 4640, 4641, 4642, 4643, 4644, 4645, 4646, 4647, 4648, 4649, 4650, 4651, 4652, 4653, 4654, 4655, 4656, 4657, 4658, 4659, 4660, 4661, 4662, 4663, 4664, 4665, 4666, 4667, 4668, 4669, 4670, 4671, 4672, 4673, 4674, 4675, 4676, 4677, 4678, 4679, 4680, 4681, 4682, 4683, 4684, 4685, 4686, 4687, 4688, 4689, 4690, 4691, 4692, 4693, 4694, 4695, 4696, 4697, 4698, 4699, 4700, 4701, 4702, 4703, 4704, 4705, 4706, 4707, 4708, 4709, 4710, 4711, 4712, 4713, 4714, 4715, 4716, 4717, 4718, 4719, 4720, 4721, 4722, 4723, 4724, 4725, 4726, 4727, 4728, 4729, 4730, 4731, 4732, 4733, 4734, 4735, 4736, 4737, 4738, 4739, 4740, 4741, 4742, 4743, 4744, 4745, 4746, 4747, 4748, 4749, 4750, 4751, 4752, 4753, 4754, 4755, 4756, 4757, 4758, 4759, 4760, 4761, 4762, 4763, 4764, 4765, 4766, 4767, 4768, 4769, 4770, 4771, 4772, 4773, 4774, 4775, 4776, 4777, 4778, 4779, 4780, 4781, 4782, 4783, 4784, 4785, 4786, 4787, 4788, 4789, 4790, 4791, 4792, 4793, 4794, 4795, 4796, 4797, 4798, 4799, 4800, 4801, 4802, 4803, 4804, 4805, 4806, 4807, 4808, 4809, 4810, 4811, 4812, 4813, 4814, 4815, 4816, 4817, 4818, 4819, 4820, 4821, 4822, 4823, 4824, 4825, 4826, 4827, 4828, 4829, 4830, 4831, 4832, 4833, 4834, 4835, 4836, 4837, 4838, 4839, 4840, 4841, 4842, 4843, 4844, 4845, 4846, 4847, 4848, 4849, 4850, 4851, 4852, 4853, 4854, 4855, 4856, 4857, 4858, 4859, 4860, 4861, 4862, 4863, 4864, 4865, 4866, 4867, 4868, 4869, 4870, 4871, 4872, 4873, 4874, 4875, 4876, 4877, 4878, 4879, 4880, 4881, 4882, 4883, 4884, 4885, 4886, 4887, 4888, 4889, 4890, 4891, 4892, 4893, 4894, 4895, 4896, 4897, 4898, 4899, 4900, 4901, 4902, 4903, 4904, 4905, 4906, 4907, 4908, 4909, 4910, 4911, 4912, 4913, 4914, 4915, 4916, 4917, 4918, 4919, 4920, 4921, 4922, 4923, 4924, 4925, 4926, 4927, 4928, 4929, 4930, 4931, 4932, 4933, 4934, 4935, 4936, 4937, 4938, 4939, 4940, 4941, 4942, 4943, 4944, 4945, 4946, 4947, 4948, 4949, 4950, 4951, 4952, 4953, 4954, 4955, 4956, 4957, 4958, 4959, 4960, 4961, 4962, 4963, 4964, 4965, 4966, 4967, 4968, 4969, 4970, 4971, 4972, 4973, 4974, 4975, 4976, 4977, 4978, 4979, 4980, 4981, 4982, 4983, 4984, 4985, 4986, 4987, 4988, 4989, 4990, 4991, 4992, 4993, 4994, 4995, 4996, 4997, 4998, 4999]\n"
     ]
    }
   ],
   "source": [
    "\n",
    "dataset[\"train\"][8]\n",
    "\n",
    "# Examine dataset\n",
    "specific_dataset = dataset[\"train\"]\n",
    "print(specific_dataset)\n",
    "\n",
    "df = specific_dataset.to_pandas()\n",
    "print(\"HEAD: \\n\")\n",
    "print(df.head())\n",
    "\n",
    "# Get summary statistics\n",
    "print(\"DESCRIBE:\\n\")\n",
    "print(df.describe())\n",
    "\n",
    "# Get information about the dataset, including data types and missing values\n",
    "print(\"INFO:\\n\")\n",
    "print(df.info())\n",
    "\n",
    "# Get all the different levels of difficulty\n",
    "print(\"DIFFICULTY:\\n\")\n",
    "difficulty_levels = df['difficulty'].unique()\n",
    "print(\"Different levels of difficulty:\", difficulty_levels)\n",
    "\n",
    "# Get all the problem_id where difficulty is introductory (so the easiest to solve for dummy tests)\n",
    "introductory_rows = df[df['difficulty'] == 'introductory']\n",
    "\n",
    "# Print the IDs of rows where difficulty is \"introductory\"\n",
    "introductory_ids = introductory_rows['problem_id'].tolist()\n",
    "print(\"IDs of rows with difficulty 'introductory':\", introductory_ids)"
   ]
  },
  {
   "cell_type": "code",
   "execution_count": 14,
   "metadata": {},
   "outputs": [
    {
     "name": "stdout",
     "output_type": "stream",
     "text": [
      "You like playing chess tournaments online.\n",
      "\n",
      "In your last tournament you played $n$ games. For the sake of this problem, each chess game is either won or lost (no draws). When you lose a game you get $0$ points. When you win you get $1$ or $2$ points: if you have won also the previous game you get $2$ points, otherwise you get $1$ point. If you win the very first game of the tournament you get $1$ point (since there is not a \"previous game\").\n",
      "\n",
      "The outcomes of the $n$ games are represented by a string $s$ of length $n$: the $i$-th character of $s$ is W if you have won the $i$-th game, while it is L if you have lost the $i$-th game.\n",
      "\n",
      "After the tournament, you notice a bug on the website that allows you to change the outcome of at most $k$ of your games (meaning that at most $k$ times you can change some symbol L to W, or W to L). Since your only goal is to improve your chess rating, you decide to cheat and use the bug.\n",
      "\n",
      "Compute the maximum score you can get by cheating in the optimal way.\n",
      "\n",
      "\n",
      "-----Input-----\n",
      "\n",
      "Each test contains multiple test cases. The first line contains an integer $t$ ($1\\le t \\le 20,000$) — the number of test cases. The description of the test cases follows.\n",
      "\n",
      "The first line of each testcase contains two integers $n, k$ ($1\\le n\\le 100,000$, $0\\le k\\le n$) – the number of games played and the number of outcomes that you can change.\n",
      "\n",
      "The second line contains a string $s$ of length $n$ containing only the characters W and L. If you have won the $i$-th game then $s_i=\\,$W, if you have lost the $i$-th game then $s_i=\\,$L.\n",
      "\n",
      "It is guaranteed that the sum of $n$ over all testcases does not exceed $200,000$.\n",
      "\n",
      "\n",
      "-----Output-----\n",
      "\n",
      "For each testcase, print a single integer – the maximum score you can get by cheating in the optimal way.\n",
      "\n",
      "\n",
      "-----Example-----\n",
      "Input\n",
      "8\n",
      "5 2\n",
      "WLWLL\n",
      "6 5\n",
      "LLLWWL\n",
      "7 1\n",
      "LWLWLWL\n",
      "15 5\n",
      "WWWLLLWWWLLLWWW\n",
      "40 7\n",
      "LLWLWLWWWLWLLWLWWWLWLLWLLWLLLLWLLWWWLWWL\n",
      "1 0\n",
      "L\n",
      "1 1\n",
      "L\n",
      "6 1\n",
      "WLLWLW\n",
      "\n",
      "Output\n",
      "7\n",
      "11\n",
      "6\n",
      "26\n",
      "46\n",
      "0\n",
      "1\n",
      "6\n",
      "\n",
      "\n",
      "\n",
      "-----Note-----\n",
      "\n",
      "Explanation of the first testcase. Before changing any outcome, the score is $2$. Indeed, you won the first game, so you got $1$ point, and you won also the third, so you got another $1$ point (and not $2$ because you lost the second game).\n",
      "\n",
      "An optimal way to cheat is to change the outcomes of the second and fourth game. Doing so, you end up winning the first four games (the string of the outcomes becomes WWWWL). Hence, the new score is $7=1+2+2+2$: $1$ point for the first game and $2$ points for the second, third and fourth game.\n",
      "\n",
      "Explanation of the second testcase. Before changing any outcome, the score is $3$. Indeed, you won the fourth game, so you got $1$ point, and you won also the fifth game, so you got $2$ more points (since you won also the previous game).\n",
      "\n",
      "An optimal way to cheat is to change the outcomes of the first, second, third and sixth game. Doing so, you end up winning all games (the string of the outcomes becomes WWWWWW). Hence, the new score is $11 = 1+2+2+2+2+2$: $1$ point for the first game and $2$ points for all the other games.\n",
      "import sys\n",
      "input = sys.stdin.readline\n",
      "\n",
      "def main():\n",
      "    n, k = map(int, input().split())\n",
      "    string = input().strip()\n",
      "    if \"W\" not in string:\n",
      "        ans = min(n, k) * 2 - 1\n",
      "        print(max(ans, 0))\n",
      "        return\n",
      "        \n",
      "    L_s = []\n",
      "    cnt = 0\n",
      "    bef = string[0]\n",
      "    ans = 0\n",
      "    for s in string:\n",
      "        if s == bef:\n",
      "            cnt += 1\n",
      "        else:\n",
      "            if bef == \"L\":\n",
      "                L_s.append(cnt)\n",
      "            else:\n",
      "                ans += cnt * 2 - 1\n",
      "            cnt = 1\n",
      "        bef = s\n",
      "    if bef == \"W\":\n",
      "        ans += cnt * 2 - 1\n",
      "        cnt = 0\n",
      "        \n",
      "    if string[0] == \"L\" and L_s:\n",
      "        cnt += L_s[0]\n",
      "        L_s = L_s[1:]\n",
      "    L_s.sort()\n",
      "    for l in L_s:\n",
      "        if k >= l:\n",
      "            ans += l * 2 + 1\n",
      "            k -= l\n",
      "        else:\n",
      "            ans += k * 2\n",
      "            k = 0\n",
      "            \n",
      "    ans += 2 * min(k, cnt)\n",
      "    print(ans)\n",
      "    \n",
      "    \n",
      "    \n",
      "for _ in range(int(input())):\n",
      "    main()\n"
     ]
    }
   ],
   "source": [
    "one_data = dataset[\"train\"][8]\n",
    "print(one_data[\"question\"])\n",
    "one_data = json.loads(one_data[\"solutions\"])\n",
    "print(one_data[0])\n"
   ]
  },
  {
   "cell_type": "code",
   "execution_count": 33,
   "metadata": {},
   "outputs": [],
   "source": [
    "text = f\"\"\"\n",
    "from typing import List\n",
    "def possible(a):\n",
    "    ans = set()\n",
    "    s = set()\n",
    "    lmax = 0\n",
    "    for i in range(len(a)):\n",
    "        lmax = max(lmax, a[i])\n",
    "        s.add(a[i])\n",
    "        if lmax == i + 1 and len(s) == i + 1:\n",
    "            ans.add(i + 1)\n",
    "    print(ans)\n",
    "    return ans\n",
    "\n",
    "    \n",
    "def function(n: int, a: List[int]):\n",
    "\n",
    "    a = list(map(int, input().split(' ')))\n",
    "    left = possible(a)\n",
    "    a.reverse()\n",
    "    right = possible(a)\n",
    "    ans = []\n",
    "    print(ans)\n",
    "    for l in left:\n",
    "        if n - l in right:\n",
    "            ans.append(l)\n",
    "    print(len(ans))\n",
    "    for l in ans:\n",
    "        print(l, n - l)\n",
    "        \n",
    "function(3, [2, 4, 1])\n",
    "\"\"\"\n",
    "exec(text)\n",
    "\n"
   ]
  },
  {
   "cell_type": "code",
   "execution_count": 18,
   "metadata": {},
   "outputs": [
    {
     "name": "stdout",
     "output_type": "stream",
     "text": [
      "{'problem_id': 2413, 'question': 'Find the largest palindrome made from the product of two n-digit numbers.\\n Since the result could be very large, you should return the largest palindrome mod 1337.\\n\\nExample:\\nInput: 2\\nOutput: 987\\nExplanation: 99 x 91 = 9009, 9009 % 1337 = 987\\n\\n\\n\\n\\nNote:\\nThe range of n is [1,8].', 'solutions': '[\"class Solution:\\\\n     def largestPalindrome(self, n):\\\\n         \\\\\"\\\\\"\\\\\"\\\\n         :type n: int\\\\n         :rtype: int\\\\n         \\\\\"\\\\\"\\\\\"\\\\n         A = [0,9,987,123,597,677,1218,877,475]\\\\n         return A[n]\", \"class Solution:\\\\n     def largestPalindrome(self, n):\\\\n         \\\\\"\\\\\"\\\\\"\\\\n         :type n: int\\\\n         :rtype: int\\\\n         \\\\\"\\\\\"\\\\\"\\\\n         return [9, 9009, 906609, 99000099, 9966006699, 999000000999, \\\\\\\\\\\\n                     99956644665999, 9999000000009999][n - 1] % 1337\", \"class Solution(object):\\\\n     def largestPalindrome(self, n):\\\\n         if n==1: return 9\\\\n         for a in range(2, 9*10**(n-1)):\\\\n             hi=(10**n)-a\\\\n             lo=int(str(hi)[::-1])\\\\n             if a**2-4*lo < 0: continue\\\\n             if (a**2-4*lo)**.5 == int((a**2-4*lo)**.5):\\\\n                 return (lo+10**n*(10**n-a))%1337\", \"class Solution:\\\\n     def largestPalindrome(self, n):\\\\n         if n==1: return 9\\\\n         if n==2: return 987\\\\n         for a in range(2, 9*10**(n-1)):\\\\n             hi=(10**n)-a\\\\n             lo=int(str(hi)[::-1])\\\\n             if a**2-4*lo < 0: continue\\\\n             if (a**2-4*lo)**.5 == int((a**2-4*lo)**.5):\\\\n                 return (lo+10**n*(10**n-a))%1337\", \"class Solution:\\\\n     def largestPalindrome(self, n):\\\\n         \\\\\"\\\\\"\\\\\"\\\\n         :type n: int\\\\n         :rtype: int\\\\n         \\\\\"\\\\\"\\\\\"\\\\n         if n == 1: return 9\\\\n         if n == 2: return 987\\\\n         for i in range(2, 9*10**(n-1)):\\\\n             hi = (10**n) - i\\\\n             lo = int(str(hi)[::-1])\\\\n             if i**2 - 4*lo < 0: continue\\\\n             if (i**2 - 4*lo)**0.5 == int((i**2-4*lo)**0.5):\\\\n                 return (lo+10**n*(10**n-i))%1337\", \"class Solution:\\\\n     def largestPalindrome(self, n):\\\\n         \\\\\"\\\\\"\\\\\"\\\\n         :type n: int\\\\n         :rtype: int\\\\n         \\\\\"\\\\\"\\\\\"\\\\n         if n==1: return 9\\\\n         if n==2: return 987\\\\n         for a in range(2, 9*10**(n-1)):\\\\n             hi=(10**n)-a\\\\n             lo=int(str(hi)[::-1])\\\\n             if a**2-4*lo < 0: continue\\\\n             if (a**2-4*lo)**.5 == int((a**2-4*lo)**.5):\\\\n                 return (lo+10**n*(10**n-a))%1337\", \"class Solution:\\\\n     def largestPalindrome(self, n):\\\\n         \\\\\"\\\\\"\\\\\"\\\\n         :type n: int\\\\n         :rtype: int\\\\n         \\\\\"\\\\\"\\\\\"\\\\n         \\\\n         table = [9, 9009, 906609, 99000099, 9966006699, 999000000999, 99956644665999, 9999000000009999]\\\\n         return table[n - 1] % 1337\\\\n     \\\\n         \\'\\'\\' Time Limited when n = 8 , maybe caused by the lowly run time of python\\\\n         if n == 1:\\\\n             return 9\\\\n         maxNum = int(pow(10, n)) - 1\\\\n         for i in reversed(range(maxNum // 10, maxNum)):\\\\n             palindrome = self.createPalindrome(i)\\\\n             j = maxNum\\\\n             while j * j >= palindrome:\\\\n                 if palindrome % j == 0:\\\\n                     return palindrome % 1337\\\\n                 j -= 1\\\\n         return 0\\\\n     \\\\n     def createPalindrome(self, n):\\\\n         palindrome = str(n)\\\\n         reverse = str(n)[::-1]\\\\n         palindrome += reverse\\\\n         return int(palindrome)\\\\n         \\'\\'\\'\\\\n\", \"class Solution:\\\\n     def largestPalindrome(self, n):\\\\n         \\\\\"\\\\\"\\\\\"\\\\n         :type n: int\\\\n         :rtype: int\\\\n         \\\\\"\\\\\"\\\\\"\\\\n         if n == 1:\\\\n             return 9\\\\n         for a in range(2,9*10**(n-1)):\\\\n             upper = 10**n - a\\\\n             lower = int(str(upper)[::-1])\\\\n             delta = a**2 - 4*lower\\\\n             if delta >= 0 and int(delta**0.5) == delta**0.5 and (a+delta)%2 == 0:\\\\n                 return (upper*10**n+lower)%1337\", \"class Solution:\\\\n     def largestPalindrome(self, n):\\\\n         \\\\\"\\\\\"\\\\\"\\\\n         :type n: int\\\\n         :rtype: int\\\\n         \\\\\"\\\\\"\\\\\"\\\\n         if n == 1:\\\\n             return 9\\\\n         if n == 2:\\\\n             return 987\\\\n         for a in range(1, 9*pow(10, n-1)):\\\\n             hi=(pow(10, n))-a\\\\n             lo=int(str(hi)[::-1])\\\\n             if pow(a, 2)-4*lo < 0: continue\\\\n             if pow((pow(a, 2)-4*lo), 0.5) == int(pow((pow(a, 2)-4*lo), 0.5)):\\\\n                 return (lo+pow(10, n)*(pow(10, n)-a))%1337\\\\n\", \"class Solution:\\\\n     def largestPalindrome(self, n):\\\\n         \\\\\"\\\\\"\\\\\"\\\\n         :type n: int\\\\n         :rtype: int\\\\n         \\\\\"\\\\\"\\\\\"\\\\n         top = pow(10, n) - 1\\\\n         bot = pow(10, n-1) - 1\\\\n         if n==1: return 9\\\\n         if n==2: return 987\\\\n         for a in range(2, 9*10**(n-1)):\\\\n             hi=(10**n)-a\\\\n             lo=int(str(hi)[::-1])\\\\n             if a**2-4*lo < 0: continue\\\\n             if (a**2-4*lo)**.5 == int((a**2-4*lo)**.5):\\\\n                 return (lo+10**n*(10**n-a))%1337\\\\n\"]', 'input_output': '{\"fn_name\": \"largestPalindrome\", \"inputs\": [[1]], \"outputs\": [9]}', 'difficulty': 'introductory', 'url': 'https://leetcode.com/problems/largest-palindrome-product/', 'starter_code': '\\nclass Solution:\\n    def largestPalindrome(self, n: int) -> int:\\n        '} \n",
      "\n",
      "\n",
      "Find the largest palindrome made from the product of two n-digit numbers.\n",
      " Since the result could be very large, you should return the largest palindrome mod 1337.\n",
      "\n",
      "Example:\n",
      "Input: 2\n",
      "Output: 987\n",
      "Explanation: 99 x 91 = 9009, 9009 % 1337 = 987\n",
      "\n",
      "\n",
      "\n",
      "\n",
      "Note:\n",
      "The range of n is [1,8].\n",
      "class Solution:\n",
      "     def largestPalindrome(self, n):\n",
      "         \"\"\"\n",
      "         :type n: int\n",
      "         :rtype: int\n",
      "         \"\"\"\n",
      "         A = [0,9,987,123,597,677,1218,877,475]\n",
      "         return A[n]\n"
     ]
    }
   ],
   "source": [
    "one_data = dataset[\"train\"][2413]\n",
    "#print(one_data, \"\\n\\n\")\n",
    "print(one_data[\"question\"])\n",
    "one_data = json.loads(one_data[\"solutions\"])\n",
    "print(one_data[0])"
   ]
  },
  {
   "cell_type": "code",
   "execution_count": 21,
   "metadata": {},
   "outputs": [
    {
     "name": "stdout",
     "output_type": "stream",
     "text": [
      "The largest palindrome for  2 -digit numbers is:  987\n"
     ]
    }
   ],
   "source": [
    "text = f\"\"\"\n",
    "def largest_palindrome(n):\n",
    "    upper_limit = 10**n - 1\n",
    "    lower_limit = 10**(n - 1)\n",
    "\n",
    "    max_palindrome = 0\n",
    "\n",
    "    for i in range(upper_limit, lower_limit - 1, -1):\n",
    "        for j in range(i, lower_limit - 1, -1):\n",
    "            product = i * j\n",
    "            if product <= max_palindrome:\n",
    "                break  # No need to check further if the product is smaller than the current max palindrome\n",
    "            if str(product) == str(product)[::-1]:  # Check if the product is a palindrome\n",
    "                max_palindrome = max(max_palindrome, product)\n",
    "\n",
    "    return max_palindrome % 1337\n",
    "\n",
    "# Example usage:\n",
    "n = 2\n",
    "result = largest_palindrome(n)\n",
    "print(\"The largest palindrome for \", n, \"-digit numbers is: \" , result)\n",
    "\"\"\" \n",
    "exec(text)"
   ]
  },
  {
   "cell_type": "code",
   "execution_count": 22,
   "metadata": {},
   "outputs": [
    {
     "name": "stdout",
     "output_type": "stream",
     "text": [
      "Here you will create the classic [Pascal's triangle](https://en.wikipedia.org/wiki/Pascal%27s_triangle).\n",
      "Your function will be passed the depth of the triangle and you code has to return the corresponding pascal triangle up to that depth.\n",
      "\n",
      "The triangle should be returned as a nested array.\n",
      "\n",
      "for example:\n",
      "```python\n",
      "pascal(5) # should return [[1], [1,1], [1,2,1], [1,3,3,1], [1,4,6,4,1]]\n",
      "```\n",
      "\n",
      "To build the triangle, start with a single 1 at the top, for each number in the next row you just take the two numbers above it and add them together (except for the edges, which are all `1`), e.g.:\n",
      "```\n",
      "              [1]\n",
      "            [1   1]\n",
      "          [1   2   1]\n",
      "        [1   3   3   1]\n",
      "```\n",
      "def pascal(p):\n",
      "    triangle = [[1]]\n",
      "    for _ in range(p - 1):\n",
      "        to_sum = list(zip([0] + triangle[-1], triangle[-1] + [0]))\n",
      "        triangle.append(list(map(sum, to_sum)))\n",
      "    return triangle\n",
      "\n"
     ]
    }
   ],
   "source": [
    "one_data = dataset[\"train\"][2982]\n",
    "#print(one_data, \"\\n\\n\")\n",
    "print(one_data[\"question\"])\n",
    "one_data = json.loads(one_data[\"solutions\"])\n",
    "print(one_data[0])"
   ]
  },
  {
   "cell_type": "code",
   "execution_count": 26,
   "metadata": {},
   "outputs": [
    {
     "name": "stdout",
     "output_type": "stream",
     "text": [
      "[[1], [1, 1], [1, 2, 1], [1, 3, 3, 1], [1, 4, 6, 4, 1]]\n"
     ]
    }
   ],
   "source": [
    "text = f\"\"\"\n",
    "def pascal(p):\n",
    "    triangle = [[1]]\n",
    "    for _ in range(p - 1):\n",
    "        to_sum = list(zip([0] + triangle[-1], triangle[-1] + [0]))\n",
    "        triangle.append(list(map(sum, to_sum)))\n",
    "    return triangle\n",
    "\n",
    "print(pascal(5))\n",
    "\"\"\" \n",
    "\n",
    "exec(text)\n"
   ]
  },
  {
   "cell_type": "code",
   "execution_count": 29,
   "metadata": {},
   "outputs": [
    {
     "name": "stdout",
     "output_type": "stream",
     "text": [
      "```if:python,php\n",
      "In this kata you will have to write a function that takes `litres` and `price_per_litre` as arguments. Purchases of 2 or more litres get a discount of 5 cents per litre, purchases of 4 or more litres get a discount of 10 cents per litre, and so on every two litres, up to a maximum discount of 25 cents per litre. But total discount per litre cannot be more than 25 cents. Return the toal cost rounded to 2 decimal places. Also you can guess that there will not be negative or non-numeric inputs.\n",
      "\n",
      "Good Luck!\n",
      "```\n",
      "\n",
      "```if:csharp,java,javascript\n",
      "In this kata you will have to write a function that takes `litres` and `pricePerLitre` as arguments. Purchases of 2 or more litres get a discount of 5 cents per litre, purchases of 4 or more litres get a discount of 10 cents per litre, and so on every two litres, up to a maximum discount of 25 cents per litre. But total discount per litre cannot be more than 25 cents. Return the toal cost rounded to 2 decimal places. Also you can guess that there will not be negative or non-numeric inputs.\n",
      "\n",
      "Good Luck!\n",
      "```\n",
      "def fuel_price(litres, price_per_liter):\n",
      "    discount = int(min(litres, 10)/2) * 5 / 100\n",
      "    return round((price_per_liter - discount) * litres, 2)\n"
     ]
    }
   ],
   "source": [
    "one_data = dataset[\"train\"][4737]\n",
    "#print(one_data, \"\\n\\n\")\n",
    "print(one_data[\"question\"])\n",
    "one_data = json.loads(one_data[\"solutions\"])\n",
    "print(one_data[0])"
   ]
  },
  {
   "cell_type": "code",
   "execution_count": 1,
   "metadata": {},
   "outputs": [
    {
     "name": "stdout",
     "output_type": "stream",
     "text": [
      "The total cost for  15  litres at  1.2  per litre is:  14.25\n"
     ]
    }
   ],
   "source": [
    "text = f\"\"\"\n",
    "def fuel_price(litres, price_per_liter):\n",
    "    discount = int(min(litres, 10)/2) * 5 / 100\n",
    "    return round((price_per_liter - discount) * litres, 2)\n",
    "\n",
    "# Example usage:\n",
    "litres = 15\n",
    "price_per_litre = 1.20\n",
    "result = fuel_price(litres, price_per_litre)\n",
    "print(f\"The total cost for \", litres, \" litres at \", price_per_litre,\" per litre is: \", result)\n",
    "\"\"\" \n",
    "exec(text)"
   ]
  },
  {
   "cell_type": "code",
   "execution_count": 6,
   "metadata": {},
   "outputs": [
    {
     "name": "stdout",
     "output_type": "stream",
     "text": [
      "You're putting together contact information for all the users of your website to ship them a small gift. You queried your database and got back a list of users, where each user is another list with up to two items: a string representing the user's name and their shipping zip code. Example data might look like:\n",
      "\n",
      "```python\n",
      "[[\"Grae Drake\", 98110], [\"Bethany Kok\"], [\"Alex Nussbacher\", 94101], [\"Darrell Silver\", 11201]]\n",
      "```\n",
      "Notice that one of the users above has a name but _doesn't_ have a zip code.\n",
      "\n",
      "Write a function `user_contacts()` that takes a two-dimensional list like the one above and returns a dictionary with an item for each user where the key is the user's name and the value is the user's zip code. If your data doesn't include a zip code then the value should be `None`.\n",
      "\n",
      "For example, using the input above, `user_contacts()` would return this dictionary:\n",
      "```python\n",
      "{\n",
      "    \"Grae Drake\": 98110,\n",
      "    \"Bethany Kok\": None,\n",
      "    \"Alex Nussbacher\": 94101,\n",
      "    \"Darrell Silver\": 11201,    \n",
      "}\n",
      "```\n",
      "\n",
      "You don't have to worry about leading zeros in zip codes.\n",
      "def user_contacts(data):\n",
      "    return {contact[0]: contact[1] if len(contact) > 1 else None\n",
      "            for contact in data}\n",
      "\n"
     ]
    }
   ],
   "source": [
    "one_data = dataset[\"train\"][4974]\n",
    "#print(one_data, \"\\n\\n\")\n",
    "print(one_data[\"question\"])\n",
    "one_data = json.loads(one_data[\"solutions\"])\n",
    "print(one_data[0])"
   ]
  },
  {
   "cell_type": "code",
   "execution_count": 7,
   "metadata": {},
   "outputs": [
    {
     "name": "stdout",
     "output_type": "stream",
     "text": [
      "{'Grae Drake': 98110, 'Bethany Kok': None, 'Alex Nussbacher': 94101, 'Darrell Silver': 11201}\n"
     ]
    }
   ],
   "source": [
    "text = f\"\"\"\n",
    "def user_contacts(data):\n",
    "    return {{contact[0]: contact[1] if len(contact) > 1 else None\n",
    "            for contact in data}}\n",
    "\n",
    "data = [[\"Grae Drake\", 98110], [\"Bethany Kok\"], [\"Alex Nussbacher\", 94101], [\"Darrell Silver\", 11201]]\n",
    "result = user_contacts(data)\n",
    "print(result)\n",
    "\"\"\"\n",
    "\n",
    "exec(text)"
   ]
  },
  {
   "cell_type": "code",
   "execution_count": 9,
   "metadata": {},
   "outputs": [
    {
     "name": "stdout",
     "output_type": "stream",
     "text": [
      "Given an integer array, you need to find one continuous subarray that if you only sort this subarray in ascending order, then the whole array will be sorted in ascending order, too.  \n",
      "\n",
      "You need to find the shortest such subarray and output its length.\n",
      "\n",
      "Example 1:\n",
      "\n",
      "Input: [2, 6, 4, 8, 10, 9, 15]\n",
      "Output: 5\n",
      "Explanation: You need to sort [6, 4, 8, 10, 9] in ascending order to make the whole array sorted in ascending order.\n",
      "\n",
      "\n",
      "\n",
      "Note:\n",
      "\n",
      "Then length of the input array is in range [1, 10,000].\n",
      "The input array may contain duplicates, so ascending order here means .\n",
      "class Solution:\n",
      "     def findUnsortedSubarray(self, nums):\n",
      "         \"\"\"\n",
      "         :type nums: List[int]\n",
      "         :rtype: int\n",
      "         \"\"\"\n",
      "         left = 1\n",
      "         size = len(nums)\n",
      "         if size == 0:\n",
      "             return 0\n",
      "         while left < size and nums[left - 1] <= nums[left]:\n",
      "             left += 1\n",
      "         if left == size:\n",
      "             return 0\n",
      "         left -= 1\n",
      "         right = size - 1\n",
      "         while right > 0 and nums[right] >= nums[right - 1]:\n",
      "             right -= 1\n",
      "         sub = nums[left : right + 1]\n",
      "         min_ = min(sub)\n",
      "         max_ = max(sub)\n",
      "         for i in range(left):\n",
      "             if nums[i] > min_:\n",
      "                 left = i\n",
      "                 break\n",
      "         for i in range(size - 1, right, -1):\n",
      "             if nums[i] < max_:\n",
      "                 right = i\n",
      "                 break\n",
      "         return right - left + 1\n",
      "\n"
     ]
    }
   ],
   "source": [
    "one_data = dataset[\"train\"][2531]\n",
    "#print(one_data, \"\\n\\n\")\n",
    "print(one_data[\"question\"])\n",
    "one_data = json.loads(one_data[\"solutions\"])\n",
    "print(one_data[0])"
   ]
  },
  {
   "cell_type": "code",
   "execution_count": 12,
   "metadata": {},
   "outputs": [
    {
     "name": "stdout",
     "output_type": "stream",
     "text": [
      "5\n"
     ]
    }
   ],
   "source": [
    "text = f\"\"\"\n",
    "class Solution: \n",
    "    def findUnsortedSubarray(self, nums):\n",
    "            \n",
    "            #:type nums: List[int]\n",
    "            #:rtype: int\n",
    "            \n",
    "            left = 1\n",
    "            size = len(nums)\n",
    "            if size == 0:\n",
    "                return 0\n",
    "            while left < size and nums[left - 1] <= nums[left]:\n",
    "                left += 1\n",
    "            if left == size:\n",
    "                return 0\n",
    "            left -= 1\n",
    "            right = size - 1\n",
    "            while right > 0 and nums[right] >= nums[right - 1]:\n",
    "                right -= 1\n",
    "            sub = nums[left : right + 1]\n",
    "            min_ = min(sub)\n",
    "            max_ = max(sub)\n",
    "            for i in range(left):\n",
    "                if nums[i] > min_:\n",
    "                    left = i\n",
    "                    break\n",
    "            for i in range(size - 1, right, -1):\n",
    "                if nums[i] < max_:\n",
    "                    right = i\n",
    "                    break\n",
    "            return right - left + 1\n",
    "         \n",
    "sol = Solution()\n",
    "nums = [2, 6, 4, 8, 10, 9, 15]\n",
    "result = sol.findUnsortedSubarray(nums)\n",
    "print(result)\n",
    "\"\"\"\n",
    "exec(text)"
   ]
  },
  {
   "cell_type": "code",
   "execution_count": 102,
   "metadata": {},
   "outputs": [
    {
     "name": "stderr",
     "output_type": "stream",
     "text": [
      "Downloading readme: 100%|██████████| 13.0k/13.0k [00:00<00:00, 3.50MB/s]\n",
      "Resolving data files: 100%|██████████| 39/39 [00:00<00:00, 47.70it/s]\n",
      "Downloading metadata: 100%|██████████| 4.52k/4.52k [00:00<00:00, 1.46MB/s]\n",
      "Downloading data: 100%|██████████| 180M/180M [01:21<00:00, 2.22MB/s]\n",
      "Downloading data: 100%|██████████| 209M/209M [01:44<00:00, 1.99MB/s]\n",
      "Downloading data: 100%|██████████| 227M/227M [01:24<00:00, 2.68MB/s]\n",
      "Downloading data: 100%|██████████| 181M/181M [01:03<00:00, 2.86MB/s]\n",
      "Downloading data: 100%|██████████| 195M/195M [01:09<00:00, 2.82MB/s]\n",
      "Downloading data: 100%|██████████| 174M/174M [01:01<00:00, 2.83MB/s]\n",
      "Downloading data: 100%|██████████| 186M/186M [01:03<00:00, 2.91MB/s]\n",
      "Downloading data: 100%|██████████| 172M/172M [00:59<00:00, 2.89MB/s]\n",
      "Downloading data: 100%|██████████| 200M/200M [01:08<00:00, 2.90MB/s]\n",
      "Downloading data: 100%|██████████| 205M/205M [01:35<00:00, 2.15MB/s]\n",
      "Downloading data: 100%|██████████| 178M/178M [01:11<00:00, 2.50MB/s]\n",
      "Downloading data: 100%|██████████| 164M/164M [01:31<00:00, 1.80MB/s]\n",
      "Downloading data: 100%|██████████| 200M/200M [01:09<00:00, 2.88MB/s]\n",
      "Downloading data: 100%|██████████| 197M/197M [01:21<00:00, 2.42MB/s]\n",
      "Downloading data: 100%|██████████| 211M/211M [01:47<00:00, 1.97MB/s]\n",
      "Downloading data: 100%|██████████| 179M/179M [01:03<00:00, 2.82MB/s]\n",
      "Downloading data: 100%|██████████| 202M/202M [01:30<00:00, 2.24MB/s]\n",
      "Downloading data: 100%|██████████| 169M/169M [01:16<00:00, 2.21MB/s]\n",
      "Downloading data: 100%|██████████| 185M/185M [01:07<00:00, 2.74MB/s]\n",
      "Downloading data: 100%|██████████| 191M/191M [01:23<00:00, 2.28MB/s]\n",
      "Downloading data: 100%|██████████| 211M/211M [01:14<00:00, 2.83MB/s]\n",
      "Downloading data: 100%|██████████| 181M/181M [01:15<00:00, 2.38MB/s]\n"
     ]
    }
   ],
   "source": [
    "from datasets import load_dataset\n",
    "\n",
    "dataset = load_dataset(\"deepmind/code_contests\")"
   ]
  },
  {
   "cell_type": "code",
   "execution_count": null,
   "metadata": {},
   "outputs": [],
   "source": []
  },
  {
   "cell_type": "code",
   "execution_count": 61,
   "metadata": {},
   "outputs": [],
   "source": [
    "\n"
   ]
  },
  {
   "cell_type": "code",
   "execution_count": 46,
   "metadata": {},
   "outputs": [],
   "source": [
    "system_prompt = f\"\"\"I have the following code. Your job is to give me some test cases that achieves maximum code coverage.\n",
    "Return your test cases as a list of tuples. Each tuple is a test case. The first element of the tuple is the first argument of the function. The second element of the tuple is the second argument of the function. The third element of the tuple is the expected output of the function.\n",
    "\"\"\""
   ]
  },
  {
   "cell_type": "code",
   "execution_count": 48,
   "metadata": {},
   "outputs": [
    {
     "data": {
      "text/plain": [
       "'Test cases:\\n1. (1, 1, 1) -> Expected output: 1\\n2. (2, 2, 2) -> Expected output: 2\\n3. (3, 3, 3) -> Expected output: 3\\n4. (4, 4, 4) -> Expected output: 4\\n5. (5, 5, 5) -> Expected output: 5\\n6. (6, 6, 6) -> Expected output: 6\\n7. (7, 7, 7) -> Expected output: 7\\n8. (8, 8, 8) -> Expected output: 8\\n9. (9, 9, 9) -> Expected output: 9\\n10. (10, 10, 10) -> Expected output: 10\\n11. (11, 11, 11) -> Expected output: 11\\n12. (12, 12, 12) -> Expected output: 12\\n13. (13, 13, 13) -> Expected output: 13\\n14. (14, 14, 14) -> Expected output: 14\\n15. (15, 15, 15) -> Expected output: 15\\n16. (16, 16, 16) -> Expected output: 16\\n17. (17, 17, 17) -> Expected output: 17\\n18. (18, 18, 18) -> Expected output: 18\\n19. (19, 19, 19) -> Expected output: 19\\n20. (20, 20, 20) -> Expected output: 20'"
      ]
     },
     "execution_count": 48,
     "metadata": {},
     "output_type": "execute_result"
    }
   ],
   "source": [
    "get_gpt_response(one_data[0], system_prompt=system_prompt)"
   ]
  },
  {
   "cell_type": "code",
   "execution_count": null,
   "metadata": {},
   "outputs": [],
   "source": []
  },
  {
   "cell_type": "code",
   "execution_count": null,
   "metadata": {},
   "outputs": [],
   "source": []
  },
  {
   "cell_type": "code",
   "execution_count": 36,
   "metadata": {},
   "outputs": [],
   "source": []
  },
  {
   "cell_type": "code",
   "execution_count": 4,
   "metadata": {},
   "outputs": [
    {
     "data": {
      "text/plain": [
       "'The concepts of good and evil are highly subjective and can vary based on cultural, social, and personal beliefs. Generally, good is associated with positive qualities such as kindness, honesty, compassion, and moral righteousness. It involves actions and behaviors that benefit others and contribute to the well-being of individuals or society as a whole.\\n\\nEvil, on the other hand, is often defined as the opposite of good and encompasses actions and behaviors that cause harm, suffering, or destruction. It involves intentional wrongdoing, immorality, and a lack of empathy or consideration for others.\\n\\nHowever, it is important to note that what is considered good or evil can be influenced by various factors, including cultural norms, religious beliefs, and personal perspectives. Different cultures and belief systems may have different definitions and interpretations of good and evil, leading to a wide range of moral and ethical systems.'"
      ]
     },
     "execution_count": 4,
     "metadata": {},
     "output_type": "execute_result"
    }
   ],
   "source": [
    "get_gpt_response(\"What is good and what is evil?\")"
   ]
  }
 ],
 "metadata": {
  "kernelspec": {
   "display_name": "openai",
   "language": "python",
   "name": "python3"
  },
  "language_info": {
   "codemirror_mode": {
    "name": "ipython",
    "version": 3
   },
   "file_extension": ".py",
   "mimetype": "text/x-python",
   "name": "python",
   "nbconvert_exporter": "python",
   "pygments_lexer": "ipython3",
   "version": "3.10.11"
  }
 },
 "nbformat": 4,
 "nbformat_minor": 2
}
